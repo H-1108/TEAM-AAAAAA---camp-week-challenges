{
 "cells": [
  {
   "attachments": {},
   "cell_type": "markdown",
   "metadata": {},
   "source": [
    "# Observation Challenge\n",
    "\n",
    "In this challenge, you have to create an algorithm based on several algorithm parts.\n",
    "\n",
    "## Stations\n",
    "Across the JK building, we have placed several stations. At each station, you can find sample inputs and their expected outputs for one of the algorithm parts.\n",
    "You must decipher the algorithm behind each station yourself.\n",
    "The locations of all the stations are listed where Lukas and Roland are sitting.\n",
    "\n",
    "# Your task\n",
    "- Create files in this directory named station1.py, station2.py, etc.\n",
    "- Each member of the team must commit (including any changes) at least one of these files.\n",
    "- Each of these files contains a function named solution_station_X(), where X is the station number, same as the file name\n",
    "- Fill out the cell below and generate the correct overall output\n",
    "- You are allowed to use all built-in Python modules, as well as numpy and pandas in your solutions."
   ]
  },
  {
   "cell_type": "code",
   "execution_count": 3,
   "metadata": {},
   "outputs": [
    {
     "name": "stdout",
     "output_type": "stream",
     "text": [
      "Pattern found \n",
      " |--- feature_0 <= 58.50\n",
      "|   |--- feature_0 <= 5.00\n",
      "|   |   |--- class: True\n",
      "|   |--- feature_0 >  5.00\n",
      "|   |   |--- class: False\n",
      "|--- feature_0 >  58.50\n",
      "|   |--- class: True\n",
      "\n"
     ]
    },
    {
     "ename": "AssertionError",
     "evalue": "",
     "output_type": "error",
     "traceback": [
      "\u001b[31m---------------------------------------------------------------------------\u001b[39m",
      "\u001b[31mAssertionError\u001b[39m                            Traceback (most recent call last)",
      "\u001b[36mCell\u001b[39m\u001b[36m \u001b[39m\u001b[32mIn[3]\u001b[39m\u001b[32m, line 34\u001b[39m\n\u001b[32m     31\u001b[39m     \u001b[38;5;28;01massert\u001b[39;00m \u001b[38;5;28misinstance\u001b[39m(output7, \u001b[38;5;28mfloat\u001b[39m)\n\u001b[32m     32\u001b[39m     \u001b[38;5;28;01mreturn\u001b[39;00m output1 * \u001b[38;5;28mint\u001b[39m.from_bytes(output2[\u001b[32m0\u001b[39m].encode(\u001b[33m\"\u001b[39m\u001b[33municode_escape\u001b[39m\u001b[33m\"\u001b[39m), byteorder=\u001b[33m'\u001b[39m\u001b[33mbig\u001b[39m\u001b[33m'\u001b[39m) * (\u001b[32m3\u001b[39m \u001b[38;5;28;01mif\u001b[39;00m output3 \u001b[38;5;28;01melse\u001b[39;00m \u001b[32m2\u001b[39m) * (\u001b[32m5\u001b[39m \u001b[38;5;28;01mif\u001b[39;00m output4 \u001b[38;5;28;01melse\u001b[39;00m \u001b[32m4\u001b[39m) * output5 * output6 * output7\n\u001b[32m---> \u001b[39m\u001b[32m34\u001b[39m FINAL_OUTPUT1 = \u001b[43mcombined_algorithm\u001b[49m\u001b[43m(\u001b[49m\u001b[43mobservation1\u001b[49m\u001b[43m)\u001b[49m\n\u001b[32m     35\u001b[39m FINAL_OUTPUT2 = combined_algorithm(observation2)\n\u001b[32m     36\u001b[39m FINAL_OUTPUT3 = combined_algorithm(observation3)\n",
      "\u001b[36mCell\u001b[39m\u001b[36m \u001b[39m\u001b[32mIn[3]\u001b[39m\u001b[32m, line 28\u001b[39m, in \u001b[36mcombined_algorithm\u001b[39m\u001b[34m(observations)\u001b[39m\n\u001b[32m     26\u001b[39m \u001b[38;5;28;01massert\u001b[39;00m \u001b[38;5;28misinstance\u001b[39m(output2, \u001b[38;5;28mstr\u001b[39m)\n\u001b[32m     27\u001b[39m \u001b[38;5;28;01massert\u001b[39;00m \u001b[38;5;28misinstance\u001b[39m(output3, \u001b[38;5;28mbool\u001b[39m)\n\u001b[32m---> \u001b[39m\u001b[32m28\u001b[39m \u001b[38;5;28;01massert\u001b[39;00m \u001b[38;5;28misinstance\u001b[39m(output4, \u001b[38;5;28mbool\u001b[39m)\n\u001b[32m     29\u001b[39m \u001b[38;5;28;01massert\u001b[39;00m \u001b[38;5;28misinstance\u001b[39m(output5, \u001b[38;5;28mint\u001b[39m)\n\u001b[32m     30\u001b[39m \u001b[38;5;28;01massert\u001b[39;00m \u001b[38;5;28misinstance\u001b[39m(output6, \u001b[38;5;28mfloat\u001b[39m)\n",
      "\u001b[31mAssertionError\u001b[39m: "
     ]
    }
   ],
   "source": [
    "from tests import tests\n",
    "from station1 import solution_station_1\n",
    "from station2 import solution_station_2\n",
    "from station3 import solution_station_3\n",
    "from station4 import solution_station_4\n",
    "from station5 import solution_station_5\n",
    "from station6 import solution_station_6\n",
    "from station7 import solution_station_7\n",
    "\n",
    "# List three observations of all inputs (not sample inputs) observed at the same time\n",
    "# Format: (time: str, station1_input: int, station2_input: str, station3_input: int, station4_input: int, station5_input: str, station6_input: int, station7_input: str)\n",
    "# Example: ('12:30:00', 1, '1990-01-01', 2, 3, \"John\", 4, \"e=mc^2\")\n",
    "observation1 = ('15:11:00', 31, \"2024-04-27\", 69045, 6904, \"Tongfei\", 69, \"d+b*c*e\")\n",
    "observation2 = ('15:11:10', 69, \"2024-06-29\", 10499, 1049, \"David G\", 10, \"a+e\")\n",
    "observation3 = ('15:11:20', 41, \"2024-06-23\", 77586, 7758, \"Nadee\", 77, \"d*e+b\")\n",
    "\n",
    "def combined_algorithm(observations: tuple) -> int:\n",
    "    output1 = solution_station_1(observations[1])\n",
    "    output2 = solution_station_2(observations[2])\n",
    "    output3 = solution_station_3(observations[3])\n",
    "    output4 = solution_station_4(observations[4])\n",
    "    output5 = solution_station_5(observations[5])\n",
    "    output6 = solution_station_6(observations[6])\n",
    "    output7 = solution_station_7(observations[7])\n",
    "    assert isinstance(output1, int)\n",
    "    assert isinstance(output2, str)\n",
    "    assert isinstance(output3, bool)\n",
    "    assert isinstance(output4, bool)\n",
    "    assert isinstance(output5, int)\n",
    "    assert isinstance(output6, float)\n",
    "    assert isinstance(output7, float)\n",
    "    return output1 * int.from_bytes(output2[0].encode(\"unicode_escape\"), byteorder='big') * (3 if output3 else 2) * (5 if output4 else 4) * output5 * output6 * output7\n",
    "\n",
    "FINAL_OUTPUT1 = combined_algorithm(observation1)\n",
    "FINAL_OUTPUT2 = combined_algorithm(observation2)\n",
    "FINAL_OUTPUT3 = combined_algorithm(observation3)\n",
    "tests.Test_Exercise(combined_algorithm);"
   ]
  },
  {
   "cell_type": "code",
   "execution_count": null,
   "metadata": {},
   "outputs": [],
   "source": []
  }
 ],
 "metadata": {
  "kernelspec": {
   "display_name": "Python 3",
   "language": "python",
   "name": "python3"
  },
  "language_info": {
   "codemirror_mode": {
    "name": "ipython",
    "version": 3
   },
   "file_extension": ".py",
   "mimetype": "text/x-python",
   "name": "python",
   "nbconvert_exporter": "python",
   "pygments_lexer": "ipython3",
   "version": "3.12.1"
  },
  "orig_nbformat": 4
 },
 "nbformat": 4,
 "nbformat_minor": 2
}
